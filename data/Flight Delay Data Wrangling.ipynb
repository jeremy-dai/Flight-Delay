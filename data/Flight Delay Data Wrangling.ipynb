{
 "cells": [
  {
   "cell_type": "code",
   "execution_count": 1,
   "metadata": {},
   "outputs": [],
   "source": [
    "import pandas as pd\n",
    "import os\n",
    "\n",
    "os.chdir(os.getcwd()+'/data')\n",
    "\n",
    "datafile = \"2004_2016_airline_delay_causes.csv\"\n",
    "\n",
    "delay=pd.read_csv(datafile)"
   ]
  },
  {
   "cell_type": "code",
   "execution_count": 2,
   "metadata": {},
   "outputs": [
    {
     "data": {
      "text/plain": [
       "Index(['year', ' month', 'carrier', 'carrier_name', 'airport', 'airport_name',\n",
       "       'arr_flights', 'arr_del15', 'carrier_ct', ' weather_ct', 'nas_ct',\n",
       "       'security_ct', 'late_aircraft_ct', 'arr_cancelled', 'arr_diverted',\n",
       "       ' arr_delay', ' carrier_delay', 'weather_delay', 'nas_delay',\n",
       "       'security_delay', 'late_aircraft_delay', 'Unnamed: 21'],\n",
       "      dtype='object')"
      ]
     },
     "execution_count": 2,
     "metadata": {},
     "output_type": "execute_result"
    }
   ],
   "source": [
    "#delay.head()\n",
    "delay.columns"
   ]
  },
  {
   "cell_type": "code",
   "execution_count": 3,
   "metadata": {
    "collapsed": true
   },
   "outputs": [],
   "source": [
    "delay_group=delay.groupby(['year',' month']).sum()"
   ]
  },
  {
   "cell_type": "code",
   "execution_count": 4,
   "metadata": {
    "collapsed": true
   },
   "outputs": [],
   "source": [
    "delay_group=delay_group.drop(['carrier_ct', ' weather_ct', 'nas_ct',\n",
    "                              'security_ct', 'late_aircraft_ct', 'arr_cancelled', \n",
    "                              'arr_diverted','Unnamed: 21'], axis = 1)"
   ]
  },
  {
   "cell_type": "code",
   "execution_count": 5,
   "metadata": {},
   "outputs": [
    {
     "data": {
      "text/html": [
       "<div>\n",
       "<style>\n",
       "    .dataframe thead tr:only-child th {\n",
       "        text-align: right;\n",
       "    }\n",
       "\n",
       "    .dataframe thead th {\n",
       "        text-align: left;\n",
       "    }\n",
       "\n",
       "    .dataframe tbody tr th {\n",
       "        vertical-align: top;\n",
       "    }\n",
       "</style>\n",
       "<table border=\"1\" class=\"dataframe\">\n",
       "  <thead>\n",
       "    <tr style=\"text-align: right;\">\n",
       "      <th></th>\n",
       "      <th></th>\n",
       "      <th>arr_flights</th>\n",
       "      <th>arr_del15</th>\n",
       "      <th>arr_delay</th>\n",
       "      <th>carrier_delay</th>\n",
       "      <th>weather_delay</th>\n",
       "      <th>nas_delay</th>\n",
       "      <th>security_delay</th>\n",
       "      <th>late_aircraft_delay</th>\n",
       "    </tr>\n",
       "    <tr>\n",
       "      <th>year</th>\n",
       "      <th>month</th>\n",
       "      <th></th>\n",
       "      <th></th>\n",
       "      <th></th>\n",
       "      <th></th>\n",
       "      <th></th>\n",
       "      <th></th>\n",
       "      <th></th>\n",
       "      <th></th>\n",
       "    </tr>\n",
       "  </thead>\n",
       "  <tbody>\n",
       "    <tr>\n",
       "      <th rowspan=\"5\" valign=\"top\">2004</th>\n",
       "      <th>1</th>\n",
       "      <td>583987.0</td>\n",
       "      <td>128236.0</td>\n",
       "      <td>6509522.0</td>\n",
       "      <td>1723185.0</td>\n",
       "      <td>537786.0</td>\n",
       "      <td>2310463.0</td>\n",
       "      <td>15364.0</td>\n",
       "      <td>1922724.0</td>\n",
       "    </tr>\n",
       "    <tr>\n",
       "      <th>2</th>\n",
       "      <td>553876.0</td>\n",
       "      <td>114517.0</td>\n",
       "      <td>5388895.0</td>\n",
       "      <td>1331459.0</td>\n",
       "      <td>364234.0</td>\n",
       "      <td>1996455.0</td>\n",
       "      <td>11295.0</td>\n",
       "      <td>1685452.0</td>\n",
       "    </tr>\n",
       "    <tr>\n",
       "      <th>3</th>\n",
       "      <td>601412.0</td>\n",
       "      <td>104031.0</td>\n",
       "      <td>4986958.0</td>\n",
       "      <td>1288518.0</td>\n",
       "      <td>214701.0</td>\n",
       "      <td>1787331.0</td>\n",
       "      <td>8872.0</td>\n",
       "      <td>1687536.0</td>\n",
       "    </tr>\n",
       "    <tr>\n",
       "      <th>4</th>\n",
       "      <td>582970.0</td>\n",
       "      <td>93754.0</td>\n",
       "      <td>4217846.0</td>\n",
       "      <td>1161420.0</td>\n",
       "      <td>191870.0</td>\n",
       "      <td>1505284.0</td>\n",
       "      <td>9601.0</td>\n",
       "      <td>1349671.0</td>\n",
       "    </tr>\n",
       "    <tr>\n",
       "      <th>5</th>\n",
       "      <td>594457.0</td>\n",
       "      <td>121019.0</td>\n",
       "      <td>6981742.0</td>\n",
       "      <td>1521686.0</td>\n",
       "      <td>529168.0</td>\n",
       "      <td>2665016.0</td>\n",
       "      <td>8724.0</td>\n",
       "      <td>2257148.0</td>\n",
       "    </tr>\n",
       "  </tbody>\n",
       "</table>\n",
       "</div>"
      ],
      "text/plain": [
       "             arr_flights  arr_del15   arr_delay   carrier_delay  \\\n",
       "year  month                                                       \n",
       "2004 1          583987.0   128236.0   6509522.0       1723185.0   \n",
       "     2          553876.0   114517.0   5388895.0       1331459.0   \n",
       "     3          601412.0   104031.0   4986958.0       1288518.0   \n",
       "     4          582970.0    93754.0   4217846.0       1161420.0   \n",
       "     5          594457.0   121019.0   6981742.0       1521686.0   \n",
       "\n",
       "             weather_delay  nas_delay  security_delay  late_aircraft_delay  \n",
       "year  month                                                                 \n",
       "2004 1            537786.0  2310463.0         15364.0            1922724.0  \n",
       "     2            364234.0  1996455.0         11295.0            1685452.0  \n",
       "     3            214701.0  1787331.0          8872.0            1687536.0  \n",
       "     4            191870.0  1505284.0          9601.0            1349671.0  \n",
       "     5            529168.0  2665016.0          8724.0            2257148.0  "
      ]
     },
     "execution_count": 5,
     "metadata": {},
     "output_type": "execute_result"
    }
   ],
   "source": [
    "delay_group.head()"
   ]
  },
  {
   "cell_type": "code",
   "execution_count": 6,
   "metadata": {
    "collapsed": true
   },
   "outputs": [],
   "source": [
    "delay_group = delay_group.reset_index()\n",
    "delay_group = delay_group.rename(columns={' month':'month'})"
   ]
  },
  {
   "cell_type": "code",
   "execution_count": 7,
   "metadata": {
    "collapsed": true
   },
   "outputs": [],
   "source": [
    "delay_group_cause = delay_group.melt(id_vars=['year','month','arr_flights', 'arr_del15',' arr_delay'], var_name='delay_type')"
   ]
  },
  {
   "cell_type": "code",
   "execution_count": 8,
   "metadata": {},
   "outputs": [
    {
     "data": {
      "text/html": [
       "<div>\n",
       "<style>\n",
       "    .dataframe thead tr:only-child th {\n",
       "        text-align: right;\n",
       "    }\n",
       "\n",
       "    .dataframe thead th {\n",
       "        text-align: left;\n",
       "    }\n",
       "\n",
       "    .dataframe tbody tr th {\n",
       "        vertical-align: top;\n",
       "    }\n",
       "</style>\n",
       "<table border=\"1\" class=\"dataframe\">\n",
       "  <thead>\n",
       "    <tr style=\"text-align: right;\">\n",
       "      <th></th>\n",
       "      <th>year</th>\n",
       "      <th>month</th>\n",
       "      <th>arr_flights</th>\n",
       "      <th>arr_del15</th>\n",
       "      <th>arr_delay</th>\n",
       "      <th>delay_type</th>\n",
       "      <th>value</th>\n",
       "    </tr>\n",
       "  </thead>\n",
       "  <tbody>\n",
       "    <tr>\n",
       "      <th>0</th>\n",
       "      <td>2004</td>\n",
       "      <td>1</td>\n",
       "      <td>583987.0</td>\n",
       "      <td>128236.0</td>\n",
       "      <td>6509522.0</td>\n",
       "      <td>carrier_delay</td>\n",
       "      <td>1723185.0</td>\n",
       "    </tr>\n",
       "    <tr>\n",
       "      <th>1</th>\n",
       "      <td>2004</td>\n",
       "      <td>2</td>\n",
       "      <td>553876.0</td>\n",
       "      <td>114517.0</td>\n",
       "      <td>5388895.0</td>\n",
       "      <td>carrier_delay</td>\n",
       "      <td>1331459.0</td>\n",
       "    </tr>\n",
       "    <tr>\n",
       "      <th>2</th>\n",
       "      <td>2004</td>\n",
       "      <td>3</td>\n",
       "      <td>601412.0</td>\n",
       "      <td>104031.0</td>\n",
       "      <td>4986958.0</td>\n",
       "      <td>carrier_delay</td>\n",
       "      <td>1288518.0</td>\n",
       "    </tr>\n",
       "    <tr>\n",
       "      <th>3</th>\n",
       "      <td>2004</td>\n",
       "      <td>4</td>\n",
       "      <td>582970.0</td>\n",
       "      <td>93754.0</td>\n",
       "      <td>4217846.0</td>\n",
       "      <td>carrier_delay</td>\n",
       "      <td>1161420.0</td>\n",
       "    </tr>\n",
       "    <tr>\n",
       "      <th>4</th>\n",
       "      <td>2004</td>\n",
       "      <td>5</td>\n",
       "      <td>594457.0</td>\n",
       "      <td>121019.0</td>\n",
       "      <td>6981742.0</td>\n",
       "      <td>carrier_delay</td>\n",
       "      <td>1521686.0</td>\n",
       "    </tr>\n",
       "  </tbody>\n",
       "</table>\n",
       "</div>"
      ],
      "text/plain": [
       "   year  month  arr_flights  arr_del15   arr_delay      delay_type      value\n",
       "0  2004      1     583987.0   128236.0   6509522.0   carrier_delay  1723185.0\n",
       "1  2004      2     553876.0   114517.0   5388895.0   carrier_delay  1331459.0\n",
       "2  2004      3     601412.0   104031.0   4986958.0   carrier_delay  1288518.0\n",
       "3  2004      4     582970.0    93754.0   4217846.0   carrier_delay  1161420.0\n",
       "4  2004      5     594457.0   121019.0   6981742.0   carrier_delay  1521686.0"
      ]
     },
     "execution_count": 8,
     "metadata": {},
     "output_type": "execute_result"
    }
   ],
   "source": [
    "delay_group_cause.head()"
   ]
  },
  {
   "cell_type": "code",
   "execution_count": 9,
   "metadata": {
    "collapsed": true
   },
   "outputs": [],
   "source": [
    "delay_group_cause.to_csv('flight_delay.csv', encoding='utf-8')"
   ]
  },
  {
   "cell_type": "code",
   "execution_count": null,
   "metadata": {
    "collapsed": true
   },
   "outputs": [],
   "source": []
  }
 ],
 "metadata": {
  "kernelspec": {
   "display_name": "Python [default]",
   "language": "python",
   "name": "python3"
  },
  "language_info": {
   "codemirror_mode": {
    "name": "ipython",
    "version": 3
   },
   "file_extension": ".py",
   "mimetype": "text/x-python",
   "name": "python",
   "nbconvert_exporter": "python",
   "pygments_lexer": "ipython3",
   "version": "3.5.3"
  }
 },
 "nbformat": 4,
 "nbformat_minor": 2
}
